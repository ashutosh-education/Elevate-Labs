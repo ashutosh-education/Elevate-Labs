{
 "cells": [
  {
   "cell_type": "code",
   "execution_count": 11,
   "id": "d10506f6",
   "metadata": {},
   "outputs": [
    {
     "name": "stdout",
     "output_type": "stream",
     "text": [
      "('Netflix', '.csv')\n"
     ]
    }
   ],
   "source": [
    "import os\n",
    "print(os.path.splitext('Netflix.csv'))\n"
   ]
  },
  {
   "cell_type": "code",
   "execution_count": 12,
   "id": "d384525d",
   "metadata": {},
   "outputs": [
    {
     "name": "stdout",
     "output_type": "stream",
     "text": [
      "  Release_Date                    Title  \\\n",
      "0   2021-12-15  Spider-Man: No Way Home   \n",
      "1   2022-03-01               The Batman   \n",
      "2   2022-02-25                  No Exit   \n",
      "3   2021-11-24                  Encanto   \n",
      "4   2021-12-22           The King's Man   \n",
      "\n",
      "                                            Overview  Popularity Vote_Count  \\\n",
      "0  Peter Parker is unmasked and no longer able to...    5083.954       8940   \n",
      "1  In his second year of fighting crime, Batman u...    3827.658       1151   \n",
      "2  Stranded at a rest stop in the mountains durin...    2618.087        122   \n",
      "3  The tale of an extraordinary family, the Madri...    2402.201       5076   \n",
      "4  As a collection of history's worst tyrants and...    1895.511       1793   \n",
      "\n",
      "  Vote_Average Original_Language                               Genre  \\\n",
      "0          8.3                en  Action, Adventure, Science Fiction   \n",
      "1          8.1                en            Crime, Mystery, Thriller   \n",
      "2          6.3                en                            Thriller   \n",
      "3          7.7                en  Animation, Comedy, Family, Fantasy   \n",
      "4          7.0                en    Action, Adventure, Thriller, War   \n",
      "\n",
      "                                          Poster_Url  \n",
      "0  https://image.tmdb.org/t/p/original/1g0dhYtq4i...  \n",
      "1  https://image.tmdb.org/t/p/original/74xTEgt7R3...  \n",
      "2  https://image.tmdb.org/t/p/original/vDHsLnOWKl...  \n",
      "3  https://image.tmdb.org/t/p/original/4j0PNHkMr5...  \n",
      "4  https://image.tmdb.org/t/p/original/aq4Pwv5Xeu...  \n"
     ]
    }
   ],
   "source": [
    "import pandas as pd\n",
    "df = pd.read_csv('Netflix.csv', engine='python', on_bad_lines='skip', encoding_errors='ignore')\n",
    "print(df.head())\n"
   ]
  },
  {
   "cell_type": "code",
   "execution_count": 16,
   "id": "d356fc33",
   "metadata": {},
   "outputs": [
    {
     "name": "stdout",
     "output_type": "stream",
     "text": [
      "Missing values in each column:\n",
      "Release_Date          0\n",
      "Title                 9\n",
      "Overview              9\n",
      "Popularity           10\n",
      "Vote_Count           10\n",
      "Vote_Average         10\n",
      "Original_Language    10\n",
      "Genre                11\n",
      "Poster_Url           11\n",
      "dtype: int64\n",
      "==================================================\n",
      "Data after removing duplicates:\n",
      "  Release_Date                    Title  \\\n",
      "0   2021-12-15  Spider-Man: No Way Home   \n",
      "1   2022-03-01               The Batman   \n",
      "2   2022-02-25                  No Exit   \n",
      "3   2021-11-24                  Encanto   \n",
      "4   2021-12-22           The King's Man   \n",
      "\n",
      "                                            Overview  Popularity Vote_Count  \\\n",
      "0  Peter Parker is unmasked and no longer able to...    5083.954       8940   \n",
      "1  In his second year of fighting crime, Batman u...    3827.658       1151   \n",
      "2  Stranded at a rest stop in the mountains durin...    2618.087        122   \n",
      "3  The tale of an extraordinary family, the Madri...    2402.201       5076   \n",
      "4  As a collection of history's worst tyrants and...    1895.511       1793   \n",
      "\n",
      "  Vote_Average Original_Language                               Genre  \\\n",
      "0          8.3                en  Action, Adventure, Science Fiction   \n",
      "1          8.1                en            Crime, Mystery, Thriller   \n",
      "2          6.3                en                            Thriller   \n",
      "3          7.7                en  Animation, Comedy, Family, Fantasy   \n",
      "4          7.0                en    Action, Adventure, Thriller, War   \n",
      "\n",
      "                                          Poster_Url  \n",
      "0  https://image.tmdb.org/t/p/original/1g0dhYtq4i...  \n",
      "1  https://image.tmdb.org/t/p/original/74xTEgt7R3...  \n",
      "2  https://image.tmdb.org/t/p/original/vDHsLnOWKl...  \n",
      "3  https://image.tmdb.org/t/p/original/4j0PNHkMr5...  \n",
      "4  https://image.tmdb.org/t/p/original/aq4Pwv5Xeu...  \n"
     ]
    }
   ],
   "source": [
    "# Identify and handle missing values using .isnull() in Python or filters in Excel\n",
    "print(\"Missing values in each column:\")\n",
    "print(df.isnull().sum())\n",
    "print(\"=\" * 50)\n",
    "#Remove duplicate rows using\n",
    "df.drop_duplicates(inplace=True)\n",
    "print(\"Data after removing duplicates:\")\n",
    "print(df.head())"
   ]
  },
  {
   "cell_type": "code",
   "execution_count": 21,
   "id": "128819b5",
   "metadata": {},
   "outputs": [
    {
     "name": "stdout",
     "output_type": "stream",
     "text": [
      "Data after standardizing Language column:\n",
      "   Original_Language\n",
      "0            english\n",
      "11          japanese\n",
      "12            french\n",
      "18             hindi\n",
      "35           spanish\n"
     ]
    }
   ],
   "source": [
    "#Standardize text values of Languages\n",
    "df['Original_Language'] = df['Original_Language'].str.strip().str.lower().replace({\n",
    "    'en':'english',\n",
    "    'hi':'hindi',\n",
    "    'fr':'french',\n",
    "    'es':'spanish',\n",
    "    'ja':'japanese',\n",
    "    'de':'german',\n",
    "})\n",
    "print(\"Data after standardizing Language column:\")\n",
    "print(df[['Original_Language']].drop_duplicates().head())\n"
   ]
  },
  {
   "cell_type": "code",
   "execution_count": 24,
   "id": "a06f89aa",
   "metadata": {},
   "outputs": [
    {
     "name": "stdout",
     "output_type": "stream",
     "text": [
      "Data after converting Date_Added to datetime:\n",
      "     Release_Date\n",
      "0      2021-12-15\n",
      "1      2022-03-01\n",
      "2      2022-02-25\n",
      "3      2021-11-24\n",
      "4      2021-12-22\n",
      "...           ...\n",
      "9832   1973-10-15\n",
      "9833   2020-10-01\n",
      "9834   2016-05-06\n",
      "9835   2021-03-31\n",
      "9836   1984-09-23\n",
      "\n",
      "[9837 rows x 1 columns]\n"
     ]
    }
   ],
   "source": [
    "#Convert date formats to a consistent type\n",
    "df['Release_Date'] = pd.to_datetime(df['Release_Date'], errors='coerce')\n",
    "print(\"Data after converting Date_Added to datetime:\")\n",
    "print(df[['Release_Date']])\n"
   ]
  },
  {
   "cell_type": "code",
   "execution_count": 25,
   "id": "91cfd948",
   "metadata": {},
   "outputs": [
    {
     "name": "stdout",
     "output_type": "stream",
     "text": [
      "Data after renaming columns:\n",
      "  release_date                    title  \\\n",
      "0   2021-12-15  Spider-Man: No Way Home   \n",
      "1   2022-03-01               The Batman   \n",
      "2   2022-02-25                  No Exit   \n",
      "3   2021-11-24                  Encanto   \n",
      "4   2021-12-22           The King's Man   \n",
      "\n",
      "                                            overview  popularity vote_count  \\\n",
      "0  Peter Parker is unmasked and no longer able to...    5083.954       8940   \n",
      "1  In his second year of fighting crime, Batman u...    3827.658       1151   \n",
      "2  Stranded at a rest stop in the mountains durin...    2618.087        122   \n",
      "3  The tale of an extraordinary family, the Madri...    2402.201       5076   \n",
      "4  As a collection of history's worst tyrants and...    1895.511       1793   \n",
      "\n",
      "  vote_average original_language                               genre  \\\n",
      "0          8.3           english  Action, Adventure, Science Fiction   \n",
      "1          8.1           english            Crime, Mystery, Thriller   \n",
      "2          6.3           english                            Thriller   \n",
      "3          7.7           english  Animation, Comedy, Family, Fantasy   \n",
      "4          7.0           english    Action, Adventure, Thriller, War   \n",
      "\n",
      "                                          poster_url  \n",
      "0  https://image.tmdb.org/t/p/original/1g0dhYtq4i...  \n",
      "1  https://image.tmdb.org/t/p/original/74xTEgt7R3...  \n",
      "2  https://image.tmdb.org/t/p/original/vDHsLnOWKl...  \n",
      "3  https://image.tmdb.org/t/p/original/4j0PNHkMr5...  \n",
      "4  https://image.tmdb.org/t/p/original/aq4Pwv5Xeu...  \n"
     ]
    }
   ],
   "source": [
    "#Rename column headers to be clean and uniform \n",
    "df.rename(columns=lambda x: x.strip().lower().replace(' ', '_'), inplace=True)\n",
    "print(\"Data after renaming columns:\")\n",
    "print(df.head())"
   ]
  },
  {
   "cell_type": "code",
   "execution_count": 26,
   "id": "183f7c38",
   "metadata": {},
   "outputs": [
    {
     "name": "stdout",
     "output_type": "stream",
     "text": [
      "Data types of each column:\n",
      "release_date         datetime64[ns]\n",
      "title                        object\n",
      "overview                     object\n",
      "popularity                  float64\n",
      "vote_count                   object\n",
      "vote_average                 object\n",
      "original_language            object\n",
      "genre                        object\n",
      "poster_url                   object\n",
      "dtype: object\n"
     ]
    }
   ],
   "source": [
    "#Check and fix data types\n",
    "print(\"Data types of each column:\")\n",
    "print(df.dtypes) "
   ]
  }
 ],
 "metadata": {
  "kernelspec": {
   "display_name": "Python 3",
   "language": "python",
   "name": "python3"
  },
  "language_info": {
   "codemirror_mode": {
    "name": "ipython",
    "version": 3
   },
   "file_extension": ".py",
   "mimetype": "text/x-python",
   "name": "python",
   "nbconvert_exporter": "python",
   "pygments_lexer": "ipython3",
   "version": "3.12.5"
  }
 },
 "nbformat": 4,
 "nbformat_minor": 5
}
